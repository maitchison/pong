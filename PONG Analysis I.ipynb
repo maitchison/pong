{
 "cells": [
  {
   "cell_type": "code",
   "execution_count": null,
   "metadata": {
    "collapsed": true
   },
   "outputs": [],
   "source": [
    "Analysis of PONG reinforcement learning algorithm\n"
   ]
  },
  {
   "cell_type": "markdown",
   "metadata": {
    "collapsed": true
   },
   "source": [
    "The idea is to find a hyperparameters that train the model to be competitive with the AI as quickly as possiable.\n",
    "The hope is to be able to find a model that can be used as part of a workshop.  Ideally I'd like the training to take only as long as the workshop, so we can start it at the beginning, and check it at the end.  (which would be about 2 hours)\n",
    "\n",
    "I define 'competitive with the AI' as obtaining a mean rewards >= 0.0 over 100 episodes.\n",
    "\n",
    "Depending on the analysis, it might be possiable to train the model faster using parallism.  I'd be happy to rent up to 32 cores, so we should be able to get enough CPU time.  Might have to shift to TF for this, and might have to parallise the enviroment evaluation (this could be done by launching multiple threads and running each episode in the batch independantly... I kind of like the idea of this)."
   ]
  },
  {
   "cell_type": "code",
   "execution_count": null,
   "metadata": {
    "collapsed": true
   },
   "outputs": [],
   "source": []
  },
  {
   "cell_type": "code",
   "execution_count": null,
   "metadata": {
    "collapsed": true
   },
   "outputs": [],
   "source": []
  },
  {
   "cell_type": "code",
   "execution_count": null,
   "metadata": {
    "collapsed": true
   },
   "outputs": [],
   "source": []
  }
 ],
 "metadata": {
  "kernelspec": {
   "display_name": "Python 3",
   "language": "python",
   "name": "python3"
  },
  "language_info": {
   "codemirror_mode": {
    "name": "ipython",
    "version": 3
   },
   "file_extension": ".py",
   "mimetype": "text/x-python",
   "name": "python",
   "nbconvert_exporter": "python",
   "pygments_lexer": "ipython3",
   "version": "3.6.1"
  }
 },
 "nbformat": 4,
 "nbformat_minor": 2
}
